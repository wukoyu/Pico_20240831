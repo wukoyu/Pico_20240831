{
 "cells": [
  {
   "cell_type": "code",
   "execution_count": 1,
   "metadata": {},
   "outputs": [
    {
     "name": "stdout",
     "output_type": "stream",
     "text": [
      "您的BMI值是: 23.620287912158066\n",
      "您的體重適中\n",
      "應用程式結束\n"
     ]
    }
   ],
   "source": [
    "try:\n",
    "    Height = int(input(\"請輸入身高(公分):\"))\n",
    "    Weight = int(input(\"請輸入體重(公斤):\"))\n",
    "\n",
    "    BMI = Weight / (Height*Height /10000)\n",
    "    print(\"您的BMI值是:\",BMI)\n",
    "    if BMI < 18.5:\n",
    "        print(\"您的體重過輕\")\n",
    "    elif BMI < 24:\n",
    "        print(\"您的體重適中\")\n",
    "    elif BMI < 27:\n",
    "        print(\"您的體重有點重\")\n",
    "    elif BMI < 30:\n",
    "        print(\"您的體重輕度肥胖\")\n",
    "    elif BMI < 35:\n",
    "        print(\"您的體重中度肥胖\")\n",
    "    else:\n",
    "        print(\"您的體重重度肥胖\")\n",
    "\n",
    "except ValueError:\n",
    "    print(\"輸入格式有錯誤\")\n",
    "\n",
    "print(\"應用程式結束\")"
   ]
  },
  {
   "cell_type": "code",
   "execution_count": 9,
   "metadata": {},
   "outputs": [
    {
     "name": "stdout",
     "output_type": "stream",
     "text": [
      "錯誤訊息:人類目前還沒有過300公分的紀錄\n",
      "應用程式結束\n"
     ]
    }
   ],
   "source": [
    "try:\n",
    "    Height = int(input(\"請輸入身高(公分):\"))\n",
    "    Weight = int(input(\"請輸入體重(公斤):\"))\n",
    "    if Height > 300:\n",
    "        raise Exception(\"人類目前還沒有過300公分的紀錄\")\n",
    "\n",
    "    BMI = Weight / (Height*Height /10000)\n",
    "    print(\"您的BMI值是:\",BMI)\n",
    "    if BMI < 18.5:\n",
    "        print(\"您的體重過輕\")\n",
    "    elif BMI < 24:\n",
    "        print(\"您的體重適中\")\n",
    "    elif BMI < 27:\n",
    "        print(\"您的體重有點重\")\n",
    "    elif BMI < 30:\n",
    "        print(\"您的體重輕度肥胖\")\n",
    "    elif BMI < 35:\n",
    "        print(\"您的體重中度肥胖\")\n",
    "    else:\n",
    "        print(\"您的體重重度肥胖\")\n",
    "\n",
    "except ValueError:\n",
    "    print(\"輸入格式有錯誤\")\n",
    "# except Exception: #Exception代表其它錯誤，放在except的最底下\n",
    "    print(\"不知名錯誤\")\n",
    "except Exception as error:\n",
    "    print(f'錯誤訊息:{error}')\n",
    "\n",
    "\n",
    "print(\"應用程式結束\")"
   ]
  }
 ],
 "metadata": {
  "kernelspec": {
   "display_name": "venv1",
   "language": "python",
   "name": "python3"
  },
  "language_info": {
   "codemirror_mode": {
    "name": "ipython",
    "version": 3
   },
   "file_extension": ".py",
   "mimetype": "text/x-python",
   "name": "python",
   "nbconvert_exporter": "python",
   "pygments_lexer": "ipython3",
   "version": "3.11.9"
  }
 },
 "nbformat": 4,
 "nbformat_minor": 2
}
