{
 "cells": [
  {
   "cell_type": "code",
   "execution_count": 19,
   "metadata": {},
   "outputs": [],
   "source": [
    "import os\n",
    "\n",
    "os.path.abspath(__name__)\n",
    "root_dir = os.getcwd()\n",
    "data_dir = os.path.join(root_dir, 'data')\n",
    "data_dir\n",
    "\n",
    "if not os.path.isdir(data_dir):\n",
    "    os.mkdir('data')\n"
   ]
  },
  {
   "cell_type": "code",
   "execution_count": 20,
   "metadata": {},
   "outputs": [
    {
     "data": {
      "text/plain": [
       "'c:\\\\Users\\\\Oliver\\\\OneDrive\\\\文件\\\\GitHub\\\\Pico_20240831\\\\lesson13_20241012\\\\computer\\\\data\\\\2024-10-12.csv'"
      ]
     },
     "execution_count": 20,
     "metadata": {},
     "output_type": "execute_result"
    }
   ],
   "source": [
    "from datetime import datetime\n",
    "today = datetime.today()\n",
    "filename = today.strftime(\"%Y-%m-%d\") + \".csv\" # 將當前日期轉換為字串，格式為 YYYY-MM-DD\n",
    "#get_file_abspath\n",
    "full_path = os.path.join(data_dir,filename)\n",
    "full_path"
   ]
  },
  {
   "cell_type": "code",
   "execution_count": 21,
   "metadata": {},
   "outputs": [],
   "source": [
    "if not os.path.exists(full_path):\n",
    "    #如果檔案不存在,則建立檔案\n",
    "    print('沒有這個檔')\n",
    "    with open(full_path, mode='w', encoding='utf-8', newline='') as file:\n",
    "        file.write('時間,設備,值\\n')"
   ]
  },
  {
   "cell_type": "code",
   "execution_count": 22,
   "metadata": {},
   "outputs": [],
   "source": [
    "import csv\n",
    "now = datetime.today()\n",
    "now_str = today.strftime(\"%Y-%m-%d %H:%M:%S\") #now_str 目前時間的字串\n",
    "header = [now_str, \"SA-08/LED_LEVEL, 7\"]\n",
    "with open(full_path, mode='a', newline='', encoding='utf-8') as file: #'a' 寫入，如果檔案存在則在其末端附加內容\n",
    "    writer = csv.writer(file)\n",
    "    writer.writerow(header)"
   ]
  },
  {
   "cell_type": "code",
   "execution_count": null,
   "metadata": {},
   "outputs": [],
   "source": []
  }
 ],
 "metadata": {
  "kernelspec": {
   "display_name": "venv1",
   "language": "python",
   "name": "python3"
  },
  "language_info": {
   "codemirror_mode": {
    "name": "ipython",
    "version": 3
   },
   "file_extension": ".py",
   "mimetype": "text/x-python",
   "name": "python",
   "nbconvert_exporter": "python",
   "pygments_lexer": "ipython3",
   "version": "3.11.9"
  }
 },
 "nbformat": 4,
 "nbformat_minor": 2
}
