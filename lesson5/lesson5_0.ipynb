{
 "cells": [
  {
   "cell_type": "code",
   "execution_count": 1,
   "metadata": {},
   "outputs": [
    {
     "name": "stdout",
     "output_type": "stream",
     "text": [
      "身高=177,體重=73\n",
      "BMI=23.301094832264035\n",
      "正常範圍\n",
      "程式結束\n"
     ]
    }
   ],
   "source": [
    "kg=0  #清除變數\n",
    "cm=0  #清除變數\n",
    "try:    \n",
    "    cm = int(input(\"請輸入身高(公分):\"))\n",
    "    if cm > 300:\n",
    "            raise Exception(\"超過300公分\")\n",
    "except ValueError:\n",
    "    print('輸入格式錯誤')\n",
    "except Exception as e:\n",
    "    print(f'輸入錯誤{cm}')\n",
    "\n",
    "try:    \n",
    "    kg = int(input(\"請輸入體重(公斤):\"))\n",
    "    if kg > 300:\n",
    "          raise Exception(\"超過300公分\")\n",
    "except ValueError:\n",
    "    print('輸入格式錯誤')\n",
    "except Exception as e:\n",
    "    print(f'輸入錯誤{kg}')\n",
    "\n",
    "print(f'身高={cm},體重={kg}')\n",
    "cm=(cm/100)*(cm/100)\n",
    "BMI=kg/cm\n",
    "print(f'BMI={BMI}')\n",
    "if BMI >=35:\n",
    "    print(\"重度肥胖：BMI≧35\")\n",
    "elif BMI >=30:\n",
    "    print(\"中度肥胖：30≦BMI\")\n",
    "elif BMI >=27:\n",
    "    print(\"輕度肥胖：27≦BMI\")\n",
    "elif BMI >=24:\n",
    "    print(\"過重\")\n",
    "elif BMI >=18.5:\n",
    "    print(\"正常範圍\")\n",
    "else:\n",
    "    print(\"體重過輕\")\n",
    "print('程式結束')"
   ]
  }
 ],
 "metadata": {
  "kernelspec": {
   "display_name": "venv1",
   "language": "python",
   "name": "python3"
  },
  "language_info": {
   "codemirror_mode": {
    "name": "ipython",
    "version": 3
   },
   "file_extension": ".py",
   "mimetype": "text/x-python",
   "name": "python",
   "nbconvert_exporter": "python",
   "pygments_lexer": "ipython3",
   "version": "3.11.9"
  }
 },
 "nbformat": 4,
 "nbformat_minor": 2
}
