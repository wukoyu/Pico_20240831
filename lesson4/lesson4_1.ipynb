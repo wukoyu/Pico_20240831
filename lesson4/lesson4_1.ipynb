{
 "cells": [
  {
   "cell_type": "code",
   "execution_count": 2,
   "metadata": {},
   "outputs": [
    {
     "name": "stdout",
     "output_type": "stream",
     "text": [
      "可以考駕照\n",
      "應用程式結束\n"
     ]
    }
   ],
   "source": [
    "#if\n",
    "age = 19\n",
    "if age < 18:\n",
    "    print(\"不能考駕照\")\n",
    "else:\n",
    "    print(\"可以考駕照\")\n",
    "print(\"應用程式結束\")"
   ]
  },
  {
   "cell_type": "code",
   "execution_count": 16,
   "metadata": {},
   "outputs": [
    {
     "name": "stdout",
     "output_type": "stream",
     "text": [
      "學生分數是:300\n",
      "學生分數是300\n"
     ]
    }
   ],
   "source": [
    "score = int(input(\"請輸入學生成績(最高300分)\"))\n",
    "is_add = input(\"學生是否符合加分條件？(y,n)\")\n",
    "\n",
    "if is_add == \"y\":\n",
    "    score *= 1.05 #複合指令運算子\n",
    "    if score > 300:\n",
    "        score = 300\n",
    "\n",
    "\n",
    "print('學生分數是:'  + str(score))\n",
    "print(f'學生分數是{score}')\n"
   ]
  },
  {
   "cell_type": "code",
   "execution_count": 19,
   "metadata": {},
   "outputs": [
    {
     "name": "stdout",
     "output_type": "stream",
     "text": [
      "輸入格式有錯誤\n",
      "應用程式結束\n"
     ]
    }
   ],
   "source": [
    "try:\n",
    "    score = int(input(\"請輸入學生成績(最高300分)\"))\n",
    "except ValueError:\n",
    "    print(\"輸入格式有錯誤\")\n",
    "except Exception: #Exception代表其它錯誤，放在except的最底下\n",
    "    print(\"不知名錯誤\")\n",
    "else:\n",
    "\n",
    "    is_add = input(\"學生是否符合加分條件？(y,n)\")\n",
    "\n",
    "    if is_add == \"y\":\n",
    "        score *= 1.05 #複合指令運算子\n",
    "        if score > 300:\n",
    "            score = 300\n",
    "\n",
    "\n",
    "    print('學生分數是:'  + str(score))\n",
    "    print(f'學生分數是{score}')\n",
    "print(\"應用程式結束\")"
   ]
  },
  {
   "cell_type": "code",
   "execution_count": 25,
   "metadata": {},
   "outputs": [
    {
     "name": "stdout",
     "output_type": "stream",
     "text": [
      "錯誤訊息:總分不可超過300分\n",
      "應用程式結束\n"
     ]
    }
   ],
   "source": [
    "#學生總分為300\n",
    "\n",
    "\n",
    "try:\n",
    "    score = int(input(\"請輸入學生成績(最高300分)\"))\n",
    "    if score >300:\n",
    "        raise Exception(\"總分不可超過300分\")\n",
    "    is_add = input(\"學生是否符合加分條件？(y,n)\")\n",
    "\n",
    "    if is_add == \"y\":\n",
    "        score *= 1.05 #複合指令運算子\n",
    "        if score > 300:\n",
    "            score = 300\n",
    "    print('學生分數是:'  + str(score))\n",
    "\n",
    "except ValueError:\n",
    "    print(\"輸入格式有錯誤\")\n",
    "except Exception as e: #Exception代表其它錯誤，放在except的最底下\n",
    "    print(f'錯誤訊息:{e}')\n",
    "    \n",
    "print(\"應用程式結束\")"
   ]
  },
  {
   "cell_type": "code",
   "execution_count": 29,
   "metadata": {},
   "outputs": [
    {
     "name": "stdout",
     "output_type": "stream",
     "text": [
      "小於90區段\n",
      "<80\n"
     ]
    }
   ],
   "source": [
    "value = 70\n",
    "if value > 90:\n",
    "    print(\"90以上區段\")\n",
    "else:\n",
    "    print(\"小於90區段\")\n",
    "    if value >= 80:\n",
    "        print(\">=80,<90\")\n",
    "    else:\n",
    "        print(\"<80\")\n"
   ]
  },
  {
   "cell_type": "code",
   "execution_count": 37,
   "metadata": {},
   "outputs": [
    {
     "name": "stdout",
     "output_type": "stream",
     "text": [
      "<50\n"
     ]
    }
   ],
   "source": [
    "#多項選擇\n",
    "value = 49\n",
    "if value > 90:\n",
    "    print(\"90以上區段\")\n",
    "elif value >= 80:\n",
    "    print(\">=80,<90\")\n",
    "elif value >= 70:\n",
    "    print(\">=70,<80\")\n",
    "elif value >= 60:\n",
    "    print(\">=60,<70\")\n",
    "elif value >= 50:\n",
    "    print(\">=50,<60\")\n",
    "else:\n",
    "    print(\"<50\")"
   ]
  },
  {
   "cell_type": "code",
   "execution_count": null,
   "metadata": {},
   "outputs": [],
   "source": []
  }
 ],
 "metadata": {
  "kernelspec": {
   "display_name": "venv1",
   "language": "python",
   "name": "python3"
  },
  "language_info": {
   "codemirror_mode": {
    "name": "ipython",
    "version": 3
   },
   "file_extension": ".py",
   "mimetype": "text/x-python",
   "name": "python",
   "nbconvert_exporter": "python",
   "pygments_lexer": "ipython3",
   "version": "3.11.9"
  }
 },
 "nbformat": 4,
 "nbformat_minor": 2
}
